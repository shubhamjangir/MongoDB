{
 "cells": [
  {
   "cell_type": "markdown",
   "metadata": {
    "colab_type": "text",
    "id": "BSYYna6uWn-n"
   },
   "source": [
    "## MongoDB"
   ]
  },
  {
   "cell_type": "markdown",
   "metadata": {},
   "source": [
    "### NoSQL DBs (Not Only Structured Query Language)"
   ]
  },
  {
   "cell_type": "markdown",
   "metadata": {},
   "source": [
    "NoSQL DBs are flexible DBs, unlike SQL DBs which are tabular in nature. Since SQL is tabular in Nature it can have null values present in the columns where fields are empty that create irregularity. In such cases, we can go for NoSQL DBs like MongoDB Because in NoSQL DBs like MongoDB we put data in a JSON Object. \n",
    "\n",
    "NoSQL is preferable when you want flexibility like in startups where things may change in the future with respect to the opportunities they get as here it’s not bound to a particular structure. But for well-established companies where operations are fixed they can go for SQL DBs in general."
   ]
  },
  {
   "cell_type": "markdown",
   "metadata": {},
   "source": [
    "See the following difference between two most popular SQL and NoSQL Dbs-\n",
    "\n",
    "|MySQL|MongoDB|\n",
    "|:-:|:-:|\n",
    "|Matured or stable|Its new and updated frequently|\n",
    "|It follows tabular structure|It follows document structure like JSON format(key value pair)|\n",
    "|It needs a proper schema| Its flexible in nature(dynamic)|\n",
    "|Managing complex relations among different tables is easy|Its not that great in complex managing relationship|\n",
    "|Its scales vertically| Horizontaly scalable|"
   ]
  },
  {
   "cell_type": "markdown",
   "metadata": {},
   "source": [
    "### Features of MongoDB\n",
    "\n",
    "**i. Rich JSON Documents-**\n",
    "\n",
    "* The most natural and productive way to work with data.\n",
    "* Supports arrays and nested objects as values.\n",
    "* Allows for flexible and dynamic schemas.\n",
    "* The document model maps to the objects in your application code, making data easy to work with.\n",
    "\n",
    "```JSON\n",
    "{\n",
    " \"name\": \"notebook\",\n",
    " \"qty\": 50,\n",
    " \"rating\": [ { \"score\": 8 }, { \"score\": 9 } ],\n",
    " \"size\": { \"height\": 11, \"width\": 8.5, \"unit\": \"in\" },\n",
    " \"status\": \"A\",\n",
    " \"tags\": [ \"college-ruled\", \"perforated\"]\n",
    "}\n",
    "```\n",
    "\n",
    "**ii. Powerful query language-**\n",
    "* Rich and expressive query language that allows you to filter and sort by any field, no matter how nested it may be within a document.\n",
    "* Support for aggregations and other modern use-cases such as geo-based search,  graph search, and text search.\n",
    "* Queries are themselves JSON, and thus easily composable. No more concatenating strings to dynamically generate SQL queries.\n",
    "```\n",
    "> db.collection.find( { qty: { $gt: 4 } } )\n",
    "```\n",
    "OUTPUT:\n",
    "```JSON\n",
    "{ \"_id\": \"apples\", \"qty\": 5 }\n",
    "{ \"_id\": \"bananas\", \"qty\": 7 }\n",
    "```\n"
   ]
  },
  {
   "cell_type": "markdown",
   "metadata": {},
   "source": [
    "\n",
    "### All the power of a relational database, and more...\n",
    "\n",
    "* Full ACID(Atomicity, Consistency, Isolation, Durability) transactions.\n",
    "* Support for joins in queries.\n",
    "* Two types of relationships instead of one: reference and embedded.\n"
   ]
  },
  {
   "cell_type": "markdown",
   "metadata": {},
   "source": [
    "### Charts\n",
    "\n",
    "* The fastest way to create visualizations of MongoDB data.\n",
    "* Built for the document model.\n",
    "* Visualize live data from any of your MongoDB instances. Available on MongoDB Atlas.\n"
   ]
  },
  {
   "cell_type": "markdown",
   "metadata": {},
   "source": [
    "### BI Connector\n",
    "* Allow any BI tool that can speak the MySQL protocol to work with your MongoDB data.\n",
    "* Leverage the BI tools your organization already uses.\n",
    "* Perform federated analytics, combining data from MongoDB and other databases."
   ]
  },
  {
   "cell_type": "markdown",
   "metadata": {
    "colab_type": "text",
    "id": "GeJZ8GDBdc1X"
   },
   "source": [
    "---\n",
    "\n",
    "## Installing MongoDB (Community Edition) [[Official Documents](https://docs.mongodb.com/manual/administration/install-community/)]\n",
    "\n"
   ]
  },
  {
   "cell_type": "markdown",
   "metadata": {},
   "source": [
    "### For Windows\n",
    "\n",
    "STEP 1: Download the installer file from download center from [here](https://www.mongodb.com/try/download/community?tck=docs_server)\n",
    "> ![mongoDB Community Server](mongo_img/mDBCommServer.JPG)\n",
    "1. Select the Version\n",
    "2. Choose platform as windows\n",
    "3. Select package as msi\n",
    "4. Click on download\n",
    "\n",
    "\n",
    "---\n",
    "\n",
    "\n",
    "STEP 2: Run the installer that you have downloaded\n",
    "\n",
    "1. Double click on the installer for mongoDB (which has .msi extension) from the location where you have downloaded the file\n",
    "\n",
    "> ![installer1](mongo_img/msi1.JPG)\n",
    "\n",
    "---\n",
    "\n",
    "\n",
    "STEP 3: Follow along the installation wizard\n",
    "\n",
    "1. Choose the setup type Complete or Custom (for advance users). The Complete setup option will choose the default location in your PC to install unlike Custom installation which allows you to choose the other location to install.\n",
    "\n",
    "> ![installer3](mongo_img/msi3.JPG)\n",
    "\n",
    "\n",
    "2. Select intall MongoDB as a Service.\n",
    "\n",
    "> ![installer4](mongo_img/msi4.JPG)\n",
    "\n",
    "\n",
    "3. Select Run the service as Network Service user (Default)\n",
    "\n",
    "\n",
    "\n",
    "\n",
    "4. Service Name. Specify the service name. Default name is MongoDB. If you already have a service with the specified name, you must choose another name.\n",
    "\n",
    "\n",
    "5. Data Directory. Specify the data directory, which corresponds to the --dbpath. If the directory does not exist, the installer will create the directory and sets the directory access to the service user.\n",
    "\n",
    "\n",
    "6. Log Directory. Specify the Log directory, which corresponds to the --logpath. If the directory does not exist, the installer will create the directory and sets the directory access to the service user.\n",
    "\n",
    "---\n",
    "\n",
    "\n",
    "STEP 4: Install [MongoDB compass](https://www.mongodb.com/products/compass) (Optional)\n",
    "\n",
    "> ![installer5](mongo_img/msi5.JPG)\n",
    "\n",
    "MongoDB compass is a UI tool or client for mongoDB. Once Compass is installed you'll see following screens - \n",
    "\n",
    "> ![installed1](mongo_img/installed1.JPG)\n",
    "\n",
    "> ![installed1](mongo_img/compass1.JPG)\n",
    "\n"
   ]
  },
  {
   "cell_type": "markdown",
   "metadata": {},
   "source": [
    "### Checking the connection of mongoDB\n",
    "\n",
    "Go to the bin file and check for mongo.exe and take the entire path and execute in terminal it will show the local host and port number if it's not running check your service and start the mongoDB service.\n",
    "\n",
    "Go to mongoDB commpass give the host and port number and it will connect to the mongoDB."
   ]
  },
  {
   "cell_type": "markdown",
   "metadata": {},
   "source": [
    "### Terminologies\n",
    "\n",
    "Database-Database   \n",
    "Tables-Collections   \n",
    "Recrods-JSON Documents   "
   ]
  },
  {
   "cell_type": "markdown",
   "metadata": {},
   "source": [
    "### Terminal Queries\n",
    "\n",
    "1-Creating a Database\n",
    "\n",
    "use Employee - it won't be visible in Compass until you don't insert the record/Json document.\n",
    "\n",
    "2-Insert one Record/JSON Document\n",
    "\n",
    "db.collection.insertOne({\"first_name\":\"Shubham\",\"last_name\":\"Jangir\"}) - it will create the ObjectID and insert the JSON in the database.\n",
    "\n",
    "3-Insert multiple Records/JSON Documents\n",
    "\n",
    "db.collection.insertMany({\"first_name\":\"Shubham1\",\"last_name\":\"Jangir1\",\"age\":26},{\"first_name\":\"Shubham2\",\"last_name\":\"Jangir2\",\"age\":26})- it will create two objectID's as it contains 2 JSON documents. This also shows the dyamic schema as we added age in the new record without changing the structe of the schema.\n",
    "\n",
    "4-Fetch data from moongoDB\n",
    "\n",
    "db.collection.find({})- it will select all the data from the database just like select * from table in SQL.\n",
    "\n",
    "db.collection.find({\"first_name\":\"Shubham\"})- it will fetch the particular JSON document which contains the key this key value pair."
   ]
  },
  {
   "cell_type": "markdown",
   "metadata": {},
   "source": [
    "## 19.3.3 Pymongo\n",
    "\n",
    "use the following command in your anaconda prompt to install pymongo\n",
    "\n",
    "```\n",
    "python -m pip install pymongo\n",
    "```\n",
    "\n",
    "Or you can directly run below cell to install pymongo in current environment-"
   ]
  },
  {
   "cell_type": "code",
   "execution_count": 1,
   "metadata": {},
   "outputs": [
    {
     "name": "stdout",
     "output_type": "stream",
     "text": [
      "Collecting pymongo\n",
      "  Downloading pymongo-3.11.4-cp38-cp38-win_amd64.whl (383 kB)\n",
      "Installing collected packages: pymongo\n",
      "Successfully installed pymongo-3.11.4\n"
     ]
    }
   ],
   "source": [
    "!python -m pip install pymongo"
   ]
  },
  {
   "cell_type": "code",
   "execution_count": 1,
   "metadata": {},
   "outputs": [
    {
     "name": "stdout",
     "output_type": "stream",
     "text": [
      "Collecting package metadata (current_repodata.json): done\n",
      "Solving environment: done\n",
      "\n",
      "## Package Plan ##\n",
      "\n",
      "  environment location: /Users/shubham/opt/anaconda3\n",
      "\n",
      "  added / updated specs:\n",
      "    - pymongo\n",
      "\n",
      "\n",
      "The following packages will be downloaded:\n",
      "\n",
      "    package                    |            build\n",
      "    ---------------------------|-----------------\n",
      "    conda-4.10.3               |   py38hecd8cb5_0         2.9 MB\n",
      "    pymongo-3.12.0             |   py38h23ab428_0         1.3 MB\n",
      "    ------------------------------------------------------------\n",
      "                                           Total:         4.1 MB\n",
      "\n",
      "The following NEW packages will be INSTALLED:\n",
      "\n",
      "  pymongo            pkgs/main/osx-64::pymongo-3.12.0-py38h23ab428_0\n",
      "\n",
      "The following packages will be UPDATED:\n",
      "\n",
      "  conda                               4.10.1-py38hecd8cb5_1 --> 4.10.3-py38hecd8cb5_0\n",
      "\n",
      "\n",
      "\n",
      "Downloading and Extracting Packages\n",
      "conda-4.10.3         | 2.9 MB    | ##################################### | 100% \n",
      "pymongo-3.12.0       | 1.3 MB    | ##################################### | 100% \n",
      "Preparing transaction: done\n",
      "Verifying transaction: done\n",
      "Executing transaction: done\n",
      "\n",
      "Note: you may need to restart the kernel to use updated packages.\n"
     ]
    }
   ],
   "source": [
    "conda install pymongo"
   ]
  },
  {
   "cell_type": "code",
   "execution_count": 1,
   "metadata": {},
   "outputs": [],
   "source": [
    "import pymongo"
   ]
  },
  {
   "cell_type": "code",
   "execution_count": 3,
   "metadata": {},
   "outputs": [
    {
     "name": "stdout",
     "output_type": "stream",
     "text": [
      "Requirement already satisfied: pymongo in /Users/shubham/opt/anaconda3/lib/python3.8/site-packages (3.12.0)\r\n"
     ]
    }
   ],
   "source": [
    "!python -m pip install pymongo"
   ]
  },
  {
   "cell_type": "code",
   "execution_count": null,
   "metadata": {},
   "outputs": [],
   "source": []
  }
 ],
 "metadata": {
  "colab": {
   "authorship_tag": "ABX9TyNC3FuR5eaXYbJw0NPE6YHk",
   "collapsed_sections": [],
   "name": "mongoDB.ipynb",
   "provenance": []
  },
  "kernelspec": {
   "display_name": "Python 3",
   "language": "python",
   "name": "python3"
  },
  "language_info": {
   "codemirror_mode": {
    "name": "ipython",
    "version": 3
   },
   "file_extension": ".py",
   "mimetype": "text/x-python",
   "name": "python",
   "nbconvert_exporter": "python",
   "pygments_lexer": "ipython3",
   "version": "3.8.8"
  }
 },
 "nbformat": 4,
 "nbformat_minor": 4
}
